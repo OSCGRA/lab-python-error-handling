{
 "cells": [
  {
   "cell_type": "markdown",
   "id": "25d7736c-ba17-4aff-b6bb-66eba20fbf4e",
   "metadata": {},
   "source": [
    "# Lab | Error Handling"
   ]
  },
  {
   "cell_type": "markdown",
   "id": "bc99b386-7508-47a0-bcdb-d969deaf6c8b",
   "metadata": {},
   "source": [
    "## Exercise: Error Handling for Managing Customer Orders\n",
    "\n",
    "The implementation of your code for managing customer orders assumes that the user will always enter a valid input. \n",
    "\n",
    "For example, we could modify the `initialize_inventory` function to include error handling.\n",
    "   - If the user enters an invalid quantity (e.g., a negative value or a non-numeric value), display an error message and ask them to re-enter the quantity for that product.\n",
    "   - Use a try-except block to handle the error and continue prompting the user until a valid quantity is entered.\n",
    "\n",
    "```python\n",
    "# Step 1: Define the function for initializing the inventory with error handling\n",
    "def initialize_inventory(products):\n",
    "    inventory = {}\n",
    "    for product in products:\n",
    "        valid_quantity = False\n",
    "        while not valid_quantity:\n",
    "            try:\n",
    "                quantity = int(input(f\"Enter the quantity of {product}s available: \"))\n",
    "                if quantity < 0:\n",
    "                    raise ValueError(\"Invalid quantity! Please enter a non-negative value.\")\n",
    "                valid_quantity = True\n",
    "            except ValueError as error:\n",
    "                print(f\"Error: {error}\")\n",
    "        inventory[product] = quantity\n",
    "    return inventory\n",
    "\n",
    "# Or, in another way:\n",
    "\n",
    "def initialize_inventory(products):\n",
    "    inventory = {}\n",
    "    for product in products:\n",
    "        valid_input = False\n",
    "        while not valid_input:\n",
    "            try:\n",
    "                quantity = int(input(f\"Enter the quantity of {product}s available: \"))\n",
    "                if quantity >= 0:\n",
    "                    inventory[product] = quantity\n",
    "                    valid_input = True\n",
    "                else:\n",
    "                    print(\"Quantity cannot be negative. Please enter a valid quantity.\")\n",
    "            except ValueError:\n",
    "                print(\"Invalid input. Please enter a valid quantity.\")\n",
    "    return inventory\n",
    "```\n",
    "\n",
    "Let's enhance your code by implementing error handling to handle invalid inputs.\n",
    "\n",
    "Follow the steps below to complete the exercise:\n",
    "\n",
    "2. Modify the `calculate_total_price` function to include error handling.\n",
    "   - If the user enters an invalid price (e.g., a negative value or a non-numeric value), display an error message and ask them to re-enter the price for that product.\n",
    "   - Use a try-except block to handle the error and continue prompting the user until a valid price is entered.\n",
    "\n",
    "3. Modify the `get_customer_orders` function to include error handling.\n",
    "   - If the user enters an invalid number of orders (e.g., a negative value or a non-numeric value), display an error message and ask them to re-enter the number of orders.\n",
    "   - If the user enters an invalid product name (e.g., a product name that is not in the inventory), or that doesn't have stock available, display an error message and ask them to re-enter the product name. *Hint: you will need to pass inventory as a parameter*\n",
    "   - Use a try-except block to handle the error and continue prompting the user until a valid product name is entered.\n",
    "\n",
    "4. Test your code by running the program and deliberately entering invalid quantities and product names. Make sure the error handling mechanism works as expected.\n"
   ]
  },
  {
   "cell_type": "code",
   "execution_count": 1,
   "id": "c7d405fd",
   "metadata": {},
   "outputs": [],
   "source": [
    "#Dictionaries and lists\n",
    "\n",
    "inventory={\"hat\":20,\"mug\":45,\"keychain\":12,\"book\":60,\"t-shirts\":21}\n",
    "customer_orders={}\n",
    "price_total=[]"
   ]
  },
  {
   "cell_type": "code",
   "execution_count": 2,
   "id": "a5e84205",
   "metadata": {},
   "outputs": [],
   "source": [
    "#Modify the get_customer_orders function to include error handling.\n",
    "\n",
    "def get_customer_orders():\n",
    "    add_order = input(\"Do you want to add an order? Y/N: \").lower()\n",
    "\n",
    "    while add_order == \"y\":\n",
    "        product = input(\"Enter the product name: \").lower()\n",
    "\n",
    "        try:\n",
    "            if product not in inventory:\n",
    "                raise ValueError(\"Invalid product name. Please add a correct product name.\")\n",
    "        except ValueError as error:\n",
    "            print(f\"Error: {error}\")\n",
    "            continue\n",
    "\n",
    "        while True:\n",
    "            quantity_input = input(\"Enter quantity: \")\n",
    "\n",
    "            try:\n",
    "                quantity = int(quantity_input)\n",
    "                if quantity <= 0:\n",
    "                    raise ValueError(\"Invalid input. Please enter a positive quantity.\")\n",
    "                break  \n",
    "            except ValueError as error:\n",
    "                print(f\"Error: {error}\")\n",
    "\n",
    "        customer_orders.update({product: quantity})\n",
    "        add_order = input(\"Would you like to add another product to this order? Y/N: \").lower()\n",
    "\n",
    "        if add_order == \"n\":\n",
    "            print(\"Your order is:\", customer_orders)\n",
    "            break\n",
    "        elif add_order == \"y\":\n",
    "            continue\n",
    "        else:\n",
    "            print(\"Add the correct parameters.\")\n",
    "            add_order = input(\"Would you like to add another product to this order? Y/N: \").lower()\n",
    "\n",
    "    if add_order == \"n\":\n",
    "        print(\"Thanks for your visit\\n\")\n",
    "    else:\n",
    "        print(\"Thanks for your visit\\n\")"
   ]
  },
  {
   "cell_type": "code",
   "execution_count": 3,
   "id": "0b2b1244",
   "metadata": {},
   "outputs": [
    {
     "name": "stdout",
     "output_type": "stream",
     "text": [
      "Do you want to add an order? Y/N: y\n",
      "Enter the product name: hat\n",
      "Enter quantity: 15\n",
      "Would you like to add another product to this order? Y/N: y\n",
      "Enter the product name: mug\n",
      "Enter quantity: 5\n",
      "Would you like to add another product to this order? Y/N: book\n",
      "Add the correct parameters.\n",
      "Would you like to add another product to this order? Y/N: 4\n",
      "Thanks for your visit\n",
      "\n"
     ]
    }
   ],
   "source": [
    "get_customer_orders()"
   ]
  },
  {
   "cell_type": "code",
   "execution_count": 14,
   "id": "64e3f5d1",
   "metadata": {},
   "outputs": [],
   "source": [
    "#Modify the calculate_total_price function to include error handling\n",
    "\n",
    "def total_price_order(customer_orders):\n",
    "    price_total=0\n",
    "    for product_order in customer_orders:\n",
    "        try:\n",
    "            price=int(input(\"Add price of \" + product_order + \": \"))\n",
    "            if price<=0:\n",
    "                raise ValueError(\"Invalid price, please add a positive value\")\n",
    "            price_total+=price\n",
    "        except ValueError as error:\n",
    "            print(f\"Error:{error}\")       \n",
    "    print(\"\\nTotal price of this order: \", price_total, \"€\")\n",
    "    "
   ]
  },
  {
   "cell_type": "code",
   "execution_count": 15,
   "id": "0d3f8fe2",
   "metadata": {},
   "outputs": [
    {
     "name": "stdout",
     "output_type": "stream",
     "text": [
      "Add price of hat: 15\n",
      "Add price of mug: 24\n",
      "\n",
      "Total price of this order:  39 €\n"
     ]
    }
   ],
   "source": [
    "total_price_order(customer_orders)"
   ]
  }
 ],
 "metadata": {
  "kernelspec": {
   "display_name": "Python 3 (ipykernel)",
   "language": "python",
   "name": "python3"
  },
  "language_info": {
   "codemirror_mode": {
    "name": "ipython",
    "version": 3
   },
   "file_extension": ".py",
   "mimetype": "text/x-python",
   "name": "python",
   "nbconvert_exporter": "python",
   "pygments_lexer": "ipython3",
   "version": "3.11.5"
  }
 },
 "nbformat": 4,
 "nbformat_minor": 5
}
